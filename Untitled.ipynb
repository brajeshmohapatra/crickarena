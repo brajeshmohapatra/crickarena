{
 "cells": [
  {
   "cell_type": "code",
   "execution_count": 1,
   "id": "3cf2f051",
   "metadata": {
    "ExecuteTime": {
     "end_time": "2022-04-04T11:23:04.781571Z",
     "start_time": "2022-04-04T11:23:02.439340Z"
    }
   },
   "outputs": [
    {
     "name": "stderr",
     "output_type": "stream",
     "text": [
      "C:\\Users\\asset\\anaconda3\\envs\\iplcricket\\lib\\site-packages\\sklearn\\base.py:329: UserWarning: Trying to unpickle estimator LabelEncoder from version 0.24.2 when using version 1.0.2. This might lead to breaking code or invalid results. Use at your own risk. For more info please refer to:\n",
      "https://scikit-learn.org/stable/modules/model_persistence.html#security-maintainability-limitations\n",
      "  warnings.warn(\n"
     ]
    }
   ],
   "source": [
    "import time\n",
    "import pickle\n",
    "import jsonify\n",
    "import requests\n",
    "import numpy as np\n",
    "import pandas as pd\n",
    "import matplotlib.pyplot as plt\n",
    "from sqlalchemy import *\n",
    "from bs4 import BeautifulSoup\n",
    "from datetime import date, datetime\n",
    "from sklearn.preprocessing import StandardScaler\n",
    "from flask import Flask, render_template, request\n",
    "from sqlalchemy.ext.declarative import declarative_base\n",
    "\n",
    "app = Flask(__name__, template_folder = 'templates')\n",
    "\n",
    "regressor = pickle.load(open(r'regressor.pkl', 'rb'))\n",
    "classifier = pickle.load(open(r'classifier.pkl', 'rb'))\n",
    "\n",
    "standard_to = StandardScaler()\n",
    "\n",
    "url = 'mysql+mysqlconnector://{user}:{password}@{server}/{database}'.format(user = 'admin', password = 'adminroot', \n",
    "                                                                            server = 'indianpremierleague.cloqh08fxh1t.ap-south-1.rds.amazonaws.com',\n",
    "                                                                            database = 'ipl')\n",
    "engine = create_engine(url, echo = True)\n",
    "base = declarative_base()\n",
    "\n",
    "today = ''\n",
    "\n",
    "def update_date():\n",
    "\n",
    "    year = date.today().year\n",
    "    month = date.today().month\n",
    "    day = date.today().day\n",
    "    if month < 10:\n",
    "        month = '0' + str(month)\n",
    "    if day < 10:\n",
    "        day = '0' + str(day)\n",
    "    today = str(year) + '-' + str(month) + '-' + str(day)\n",
    "    return today"
   ]
  },
  {
   "cell_type": "code",
   "execution_count": 2,
   "id": "5fbff5e1",
   "metadata": {
    "ExecuteTime": {
     "end_time": "2022-04-04T11:23:06.857445Z",
     "start_time": "2022-04-04T11:23:04.783572Z"
    },
    "scrolled": true
   },
   "outputs": [
    {
     "name": "stdout",
     "output_type": "stream",
     "text": [
      "2022-04-04 16:53:05,467 INFO sqlalchemy.engine.Engine SELECT DATABASE()\n",
      "2022-04-04 16:53:05,469 INFO sqlalchemy.engine.Engine [raw sql] {}\n",
      "2022-04-04 16:53:05,536 INFO sqlalchemy.engine.Engine SELECT @@sql_mode\n",
      "2022-04-04 16:53:05,552 INFO sqlalchemy.engine.Engine [raw sql] {}\n",
      "2022-04-04 16:53:05,587 INFO sqlalchemy.engine.Engine SELECT @@lower_case_table_names\n",
      "2022-04-04 16:53:05,588 INFO sqlalchemy.engine.Engine [raw sql] {}\n",
      "2022-04-04 16:53:05,633 INFO sqlalchemy.engine.Engine SELECT COUNT(*) FROM information_schema.tables WHERE table_schema = %(table_schema)s AND table_name = %(table_name)s\n",
      "2022-04-04 16:53:05,634 INFO sqlalchemy.engine.Engine [generated in 0.00834s] {'table_schema': 'ipl', 'table_name': 'fixtures'}\n",
      "2022-04-04 16:53:05,730 INFO sqlalchemy.engine.Engine SHOW CREATE TABLE `fixtures`\n",
      "2022-04-04 16:53:05,731 INFO sqlalchemy.engine.Engine [raw sql] {}\n",
      "2022-04-04 16:53:05,760 INFO sqlalchemy.engine.Engine SELECT fixtures.`DATE`, fixtures.`MATCH` \n",
      "FROM fixtures\n",
      "2022-04-04 16:53:05,761 INFO sqlalchemy.engine.Engine [generated in 0.01327s] {}\n",
      "2022-04-04 16:53:05,805 INFO sqlalchemy.engine.Engine SELECT COUNT(*) FROM information_schema.tables WHERE table_schema = %(table_schema)s AND table_name = %(table_name)s\n",
      "2022-04-04 16:53:05,806 INFO sqlalchemy.engine.Engine [cached since 0.1796s ago] {'table_schema': 'ipl', 'table_name': 'match_list'}\n",
      "2022-04-04 16:53:05,823 INFO sqlalchemy.engine.Engine SHOW CREATE TABLE `match_list`\n",
      "2022-04-04 16:53:05,824 INFO sqlalchemy.engine.Engine [raw sql] {}\n",
      "2022-04-04 16:53:05,842 INFO sqlalchemy.engine.Engine SELECT match_list.year, match_list.winner, match_list.final \n",
      "FROM match_list\n",
      "2022-04-04 16:53:05,844 INFO sqlalchemy.engine.Engine [generated in 0.00834s] {}\n",
      "2022-04-04 16:53:05,889 INFO sqlalchemy.engine.Engine SELECT COUNT(*) FROM information_schema.tables WHERE table_schema = %(table_schema)s AND table_name = %(table_name)s\n",
      "2022-04-04 16:53:05,889 INFO sqlalchemy.engine.Engine [cached since 0.2634s ago] {'table_schema': 'ipl', 'table_name': 'match_details'}\n",
      "2022-04-04 16:53:05,909 INFO sqlalchemy.engine.Engine SHOW CREATE TABLE `match_details`\n",
      "2022-04-04 16:53:05,909 INFO sqlalchemy.engine.Engine [raw sql] {}\n",
      "2022-04-04 16:53:05,932 INFO sqlalchemy.engine.Engine SELECT match_details.batsman, match_details.bowler, match_details.batsman_runs, match_details.is_wicket, match_details.dismissal_kind \n",
      "FROM match_details\n",
      "2022-04-04 16:53:05,933 INFO sqlalchemy.engine.Engine [generated in 0.01050s] {}\n"
     ]
    }
   ],
   "source": [
    "fixtures = pd.read_sql_table('fixtures', engine.connect(), columns = ['DATE', 'MATCH'])\n",
    "\n",
    "match_list = pd.read_sql_table('match_list', engine.connect(), columns = ['year', 'winner', 'final'])\n",
    "\n",
    "match_details = pd.read_sql_table('match_details', engine.connect(), columns = ['batsman', 'bowler', 'batsman_runs', 'is_wicket', 'dismissal_kind'])\n",
    "\n",
    "today = update_date()"
   ]
  },
  {
   "cell_type": "code",
   "execution_count": 3,
   "id": "55def2a3",
   "metadata": {
    "ExecuteTime": {
     "end_time": "2022-04-04T11:23:06.873071Z",
     "start_time": "2022-04-04T11:23:06.857445Z"
    }
   },
   "outputs": [
    {
     "data": {
      "text/plain": [
       "'2022-04-04'"
      ]
     },
     "execution_count": 3,
     "metadata": {},
     "output_type": "execute_result"
    }
   ],
   "source": [
    "today"
   ]
  },
  {
   "cell_type": "code",
   "execution_count": 4,
   "id": "47ece016",
   "metadata": {
    "ExecuteTime": {
     "end_time": "2022-04-04T11:23:06.888976Z",
     "start_time": "2022-04-04T11:23:06.875075Z"
    }
   },
   "outputs": [],
   "source": [
    "text = fixtures[fixtures['DATE'] == today]['MATCH'].values\n",
    "texts = []\n",
    "for i in range(len(text)):\n",
    "    texts.append(str(text[i]))"
   ]
  },
  {
   "cell_type": "code",
   "execution_count": 5,
   "id": "0a23ce1b",
   "metadata": {
    "ExecuteTime": {
     "end_time": "2022-04-04T11:23:06.904807Z",
     "start_time": "2022-04-04T11:23:06.891974Z"
    }
   },
   "outputs": [
    {
     "data": {
      "text/plain": [
       "['Sunrisers Hyderabad vs Lucknow Super Giants, 07:30 PM']"
      ]
     },
     "execution_count": 5,
     "metadata": {},
     "output_type": "execute_result"
    }
   ],
   "source": [
    "texts"
   ]
  },
  {
   "cell_type": "code",
   "execution_count": 6,
   "id": "e7aa8abd",
   "metadata": {
    "ExecuteTime": {
     "end_time": "2022-04-04T11:23:06.997304Z",
     "start_time": "2022-04-04T11:23:06.906792Z"
    }
   },
   "outputs": [
    {
     "name": "stdout",
     "output_type": "stream",
     "text": [
      "2022-04-04 16:53:06,915 INFO sqlalchemy.engine.Engine SELECT COUNT(*) FROM information_schema.tables WHERE table_schema = %(table_schema)s AND table_name = %(table_name)s\n",
      "2022-04-04 16:53:06,917 INFO sqlalchemy.engine.Engine [cached since 1.291s ago] {'table_schema': 'ipl', 'table_name': 'fixtures'}\n",
      "2022-04-04 16:53:06,937 INFO sqlalchemy.engine.Engine SHOW CREATE TABLE `fixtures`\n",
      "2022-04-04 16:53:06,937 INFO sqlalchemy.engine.Engine [raw sql] {}\n",
      "2022-04-04 16:53:06,960 INFO sqlalchemy.engine.Engine SELECT fixtures.`MATCH`, fixtures.`URL` \n",
      "FROM fixtures\n",
      "2022-04-04 16:53:06,961 INFO sqlalchemy.engine.Engine [generated in 0.01344s] {}\n"
     ]
    }
   ],
   "source": [
    "fixtures = pd.read_sql_table('fixtures', engine.connect(), columns = ['MATCH', 'URL'])\n",
    "\n",
    "match = 'Sunrisers Hyderabad vs Lucknow Super Giants, 07:30 PM'\n",
    "url = fixtures[fixtures['MATCH'] == match]['URL'].values[0]\n",
    "url = url.split('/')\n",
    "url = '/'.join(url[: -1]) + '/'"
   ]
  },
  {
   "cell_type": "code",
   "execution_count": 7,
   "id": "eac81f32",
   "metadata": {
    "ExecuteTime": {
     "end_time": "2022-04-04T11:23:07.013193Z",
     "start_time": "2022-04-04T11:23:06.999334Z"
    }
   },
   "outputs": [
    {
     "data": {
      "text/plain": [
       "'https://www.espncricinfo.com/series/indian-premier-league-2022-1298423/sunrisers-hyderabad-vs-lucknow-super-giants-12th-match-1304058/'"
      ]
     },
     "execution_count": 7,
     "metadata": {},
     "output_type": "execute_result"
    }
   ],
   "source": [
    "url"
   ]
  },
  {
   "cell_type": "code",
   "execution_count": 8,
   "id": "bc824a58",
   "metadata": {
    "ExecuteTime": {
     "end_time": "2022-04-04T11:23:07.028178Z",
     "start_time": "2022-04-04T11:23:07.016194Z"
    }
   },
   "outputs": [],
   "source": [
    "teams, toss = [], []\n",
    "venue, toss_winner, toss_loser, batting_team, bowling_team, status = '', '', '', '', '', ''\n",
    "innings, overs, runs, wickets, runs_last_5_overs, wickets_last_5_overs, playoff, knockout, final, target_runs, target_overs = 0, 0, 0, 0, 0, 0, 0, 0, 0, 0, 0"
   ]
  },
  {
   "cell_type": "code",
   "execution_count": 9,
   "id": "aa801f59",
   "metadata": {
    "ExecuteTime": {
     "end_time": "2022-04-04T11:23:07.043550Z",
     "start_time": "2022-04-04T11:23:07.029178Z"
    }
   },
   "outputs": [],
   "source": [
    "if today == '2022-05-24':\n",
    "    playoff = 1\n",
    "    knockout = 0\n",
    "    final = 0\n",
    "elif today == '2022-05-25':\n",
    "    playoff = 1\n",
    "    knockout = 1\n",
    "    final = 0\n",
    "elif today == '2022-05-27':\n",
    "    playoff = 1\n",
    "    knockout = 1\n",
    "    final = 0\n",
    "elif today == '2022-05-29':\n",
    "    playoff = 1\n",
    "    knockout = 1\n",
    "    final = 1"
   ]
  },
  {
   "cell_type": "code",
   "execution_count": 10,
   "id": "09419ead",
   "metadata": {
    "ExecuteTime": {
     "end_time": "2022-04-04T11:23:07.059548Z",
     "start_time": "2022-04-04T11:23:07.045556Z"
    }
   },
   "outputs": [
    {
     "data": {
      "text/plain": [
       "(0, 0, 0)"
      ]
     },
     "execution_count": 10,
     "metadata": {},
     "output_type": "execute_result"
    }
   ],
   "source": [
    "playoff, knockout, final"
   ]
  },
  {
   "cell_type": "code",
   "execution_count": 11,
   "id": "aa61facc",
   "metadata": {
    "ExecuteTime": {
     "end_time": "2022-04-04T11:23:07.293396Z",
     "start_time": "2022-04-04T11:23:07.061554Z"
    }
   },
   "outputs": [],
   "source": [
    "response = requests.get(url + 'live-cricket-score')\n",
    "soup = BeautifulSoup(response.text, 'html.parser')"
   ]
  },
  {
   "cell_type": "code",
   "execution_count": 12,
   "id": "a67b6f5f",
   "metadata": {
    "ExecuteTime": {
     "end_time": "2022-04-04T11:23:07.309425Z",
     "start_time": "2022-04-04T11:23:07.295429Z"
    }
   },
   "outputs": [
    {
     "data": {
      "text/plain": [
       "[]"
      ]
     },
     "execution_count": 12,
     "metadata": {},
     "output_type": "execute_result"
    }
   ],
   "source": [
    "teams_1 = soup.find_all('div', attrs = {'class' : 'match-header'})\n",
    "teams_1"
   ]
  },
  {
   "cell_type": "code",
   "execution_count": null,
   "id": "20f97794",
   "metadata": {},
   "outputs": [],
   "source": []
  }
 ],
 "metadata": {
  "kernelspec": {
   "display_name": "Python 3 (ipykernel)",
   "language": "python",
   "name": "python3"
  },
  "language_info": {
   "codemirror_mode": {
    "name": "ipython",
    "version": 3
   },
   "file_extension": ".py",
   "mimetype": "text/x-python",
   "name": "python",
   "nbconvert_exporter": "python",
   "pygments_lexer": "ipython3",
   "version": "3.9.7"
  }
 },
 "nbformat": 4,
 "nbformat_minor": 5
}
